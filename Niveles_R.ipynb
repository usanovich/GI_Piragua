{
  "nbformat": 4,
  "nbformat_minor": 0,
  "metadata": {
    "colab": {
      "name": "Niveles_R.ipynb",
      "provenance": [],
      "collapsed_sections": [],
      "include_colab_link": true
    },
    "kernelspec": {
      "name": "ir",
      "display_name": "R"
    }
  },
  "cells": [
    {
      "cell_type": "markdown",
      "metadata": {
        "id": "view-in-github",
        "colab_type": "text"
      },
      "source": [
        "<a href=\"https://colab.research.google.com/github/usanovich/GI_Piragua/blob/main/Niveles_R.ipynb\" target=\"_parent\"><img src=\"https://colab.research.google.com/assets/colab-badge.svg\" alt=\"Open In Colab\"/></a>"
      ]
    },
    {
      "cell_type": "markdown",
      "metadata": {
        "id": "7DATnXTUfUbO"
      },
      "source": [
        "# **Cuaderno para extracción de datos de niveles a partir de la API del geoportal de Piragua-Corantioquia.**"
      ]
    },
    {
      "cell_type": "code",
      "metadata": {
        "id": "FqZSHi-4fahK"
      },
      "source": [
        "install.packages(\"urltools\") # Instalación en sesión de librería para manejo de enlaces"
      ],
      "execution_count": null,
      "outputs": []
    },
    {
      "cell_type": "markdown",
      "metadata": {
        "id": "sWnl49_BebIC"
      },
      "source": [
        "Cargamos librerías necesarias:"
      ]
    },
    {
      "cell_type": "code",
      "metadata": {
        "id": "QVy4Ltv2dq15"
      },
      "source": [
        "library(tidyverse)\n",
        "library(urltools)\n",
        "library(lubridate)\n",
        "library(dplyr)\n",
        "library(ggplot2)"
      ],
      "execution_count": null,
      "outputs": []
    },
    {
      "cell_type": "markdown",
      "metadata": {
        "id": "_idPsDdxefC3"
      },
      "source": [
        "Limpiamos el entorno global:"
      ]
    },
    {
      "cell_type": "code",
      "metadata": {
        "id": "a9SYMmhEdvCY"
      },
      "source": [
        "rm(list = ls())"
      ],
      "execution_count": null,
      "outputs": []
    },
    {
      "cell_type": "markdown",
      "metadata": {
        "id": "NPtndeVuehux"
      },
      "source": [
        "Definimos fechas entre las que se desea extraer los datos:"
      ]
    },
    {
      "cell_type": "code",
      "metadata": {
        "id": "pCrPpdAkd1oS"
      },
      "source": [
        "comenzar = \"2010-01-03\"\n",
        "finalizar = \"2021-01-10\""
      ],
      "execution_count": null,
      "outputs": []
    },
    {
      "cell_type": "markdown",
      "metadata": {
        "id": "9ORdggB-emdb"
      },
      "source": [
        "Se lee el catálogo de estaciones de Piragua:"
      ]
    },
    {
      "cell_type": "code",
      "metadata": {
        "id": "R7RuaTp0d3Ii"
      },
      "source": [
        "estaciones = read.csv(\"http://www.piraguacorantioquia.com.co/redes_nuevo/images/Estaciones_Piragua.csv\")\n",
        "estaciones_limni$municipio = make.names(estaciones_limni[,4], unique = TRUE)"
      ],
      "execution_count": null,
      "outputs": []
    },
    {
      "cell_type": "markdown",
      "metadata": {
        "id": "KbBipTUaerd7"
      },
      "source": [
        "Se filtra por tipo (limnigráficas); se pueden aplicar filtros adicionales a esta línea: territorial o municipios, por ejemplo."
      ]
    },
    {
      "cell_type": "code",
      "metadata": {
        "id": "GNbtVXucd5JQ"
      },
      "source": [
        "estaciones_limni = estaciones %>%\n",
        "  filter(tipo == \"Limnígrafo\")"
      ],
      "execution_count": null,
      "outputs": []
    },
    {
      "cell_type": "markdown",
      "metadata": {
        "id": "Y27S5aNDe0OO"
      },
      "source": [
        "Creamos la primera función de extracción de datos a partir de la API de Piragua.\n"
      ]
    },
    {
      "cell_type": "code",
      "metadata": {
        "id": "18aGA1I6d9MO"
      },
      "source": [
        "get_data_limni = function(estacion, inicio, final){\n",
        "  url=\"https://www.piraguacorantioquia.com.co/api/nivel/1017?date_estacion__gte=2020-01-01&date_estacion__lt=2020-01-02&downloadfile\"\n",
        "  url2 = param_set(url, \"date_estacion__gte\", inicio)\n",
        "  url3 = param_set(url2, \"date_estacion__lt\", final)\n",
        "  data = read.csv(gsub(\"1017\", estacion, url3))\n",
        "  data = na.omit(data)\n",
        "  data = data[!(data$fechas == \"\"), ] # Para borrar campos de fechas vacíos\n",
        "  data$fechas = as.POSIXct(data$fechas, \"%Y-%m-%d %H-%M\")\n",
        "  data$fechas = floor_date(data$fechas, \"5 mins\")\n",
        "  data2 = data %>%\n",
        "    group_by(fechas) %>%\n",
        "    dplyr::summarise(nivel = mean(nivel)) #Cambiar muestra, nivel o caudal\n",
        "}"
      ],
      "execution_count": null,
      "outputs": []
    },
    {
      "cell_type": "markdown",
      "metadata": {
        "id": "d1frnlsye-y_"
      },
      "source": [
        "Se itera por cada una de las estaciones requeridas y se aplican funciones adicionales de limpieza de datos."
      ]
    },
    {
      "cell_type": "code",
      "metadata": {
        "id": "nTbP9FqceAc6"
      },
      "source": [
        "# Iteramos sobre las estaciones limnigráficas\n",
        "  \n",
        "limni = list() # Creamos una lista vacía\n",
        "  \n",
        "# Guardamos en lista de listas todos los datasets de las estaciones \n",
        "# para una territorial en particular\n",
        "  \n",
        "for (i in 1:nrow(estaciones_limni)) {\n",
        "    \n",
        "  estacion = estaciones_limni$codigo[i]\n",
        "  limni[[i]] = get_data_limni(estacion, comenzar, finalizar)\n",
        "    \n",
        "  }\n",
        "  \n",
        "# Agregamos una columna de municipios a cada dataframe de la lista\n",
        "  \n",
        "for (i in 1:length(limni)) {\n",
        "    \n",
        "  if (nrow(limni[[i]]) > 0) {\n",
        "    \n",
        "      limni[[i]] = data.frame(limni[[i]], municipios = estaciones_limni[i,4])\n",
        "  }\n",
        "}\n",
        "\n",
        "\n",
        "\n",
        "#Para eliminar listas con 0 filas\n",
        "limni = limni[sapply(limni, nrow) > 0]\n",
        "\n",
        "\n",
        "#Creamos un dataframe global con la lista de estaciones que tienen datos\n",
        "limni = do.call(rbind, limni)"
      ],
      "execution_count": null,
      "outputs": []
    },
    {
      "cell_type": "markdown",
      "metadata": {
        "id": "TmZAwyvZfJkg"
      },
      "source": [
        "Se crean los resumenes (promedio, máximos y mínimos) para cada estación evaluada."
      ]
    },
    {
      "cell_type": "code",
      "metadata": {
        "id": "IBBAwh8KeFcU"
      },
      "source": [
        "#Agrupamos por municipios y hallamos su promedio\n",
        "limni_prom = limni %>%\n",
        "  group_by(municipios) %>%\n",
        "  dplyr::summarise(medio = mean(nivel)) # Nivel, caudal o muestra\n",
        "\n",
        "#Agrupamos por municipios y hallamos su máximo\n",
        "limni_max = limni %>%\n",
        "  group_by(municipios) %>%\n",
        "  dplyr::summarise(máximo = max(nivel)) # Nivel, caudal o muestra\n",
        "\n",
        "#Agrupamos por municipios y hallamos su mínimo\n",
        "limni_min = limni %>%\n",
        "  group_by(municipios) %>%\n",
        "  dplyr::summarise(mínimo = min(nivel)) # Nivel, caudal o muestra\n",
        "\n",
        "# Creamos dataset con resumen\n",
        "limni_resumen = data.frame(limni_prom, limni_max$máximo,\n",
        "                           limni_min$mínimo)\n",
        "colnames(limni_resumen) = c(\"Municipio\", \"Promedio\",\n",
        "                            \"Máximo\", \"Mínimo\")\n",
        "\n",
        "# Exportamos datos\n",
        "write.table(limni_resumen,\"limni.txt\", sep = \";\")"
      ],
      "execution_count": null,
      "outputs": []
    }
  ]
}