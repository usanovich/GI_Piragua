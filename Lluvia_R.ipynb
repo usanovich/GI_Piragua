{
  "nbformat": 4,
  "nbformat_minor": 0,
  "metadata": {
    "colab": {
      "name": "Lluvia_R.ipynb",
      "provenance": [],
      "authorship_tag": "ABX9TyNKAmM693TQSlzf0Nka+Jr9",
      "include_colab_link": true
    },
    "kernelspec": {
      "name": "ir",
      "display_name": "R"
    }
  },
  "cells": [
    {
      "cell_type": "markdown",
      "metadata": {
        "id": "view-in-github",
        "colab_type": "text"
      },
      "source": [
        "<a href=\"https://colab.research.google.com/github/usanovich/GI_Piragua/blob/main/Lluvia_R.ipynb\" target=\"_parent\"><img src=\"https://colab.research.google.com/assets/colab-badge.svg\" alt=\"Open In Colab\"/></a>"
      ]
    },
    {
      "cell_type": "markdown",
      "metadata": {
        "id": "cRMabcFYcpr-"
      },
      "source": [
        "# **Cuaderno para extracción de datos de precipitación a partir de la API del geoportal de Piragua-Corantioquia.**"
      ]
    },
    {
      "cell_type": "code",
      "metadata": {
        "id": "bJ7B79LXbugZ"
      },
      "source": [
        "install.packages(\"urltools\") # Instalación en sesión de librería para manejo de enlaces"
      ],
      "execution_count": null,
      "outputs": []
    },
    {
      "cell_type": "markdown",
      "metadata": {
        "id": "itWh-I0LdFcI"
      },
      "source": [
        "Carga rutinaria de librerías empleadas en *script*."
      ]
    },
    {
      "cell_type": "code",
      "metadata": {
        "id": "-OMjfz1UciAK"
      },
      "source": [
        "library(tidyverse)\n",
        "library(urltools)\n",
        "library(lubridate)\n",
        "library(dplyr)\n",
        "library(reticulate)\n",
        "options(timeout=500)\n",
        "options(scipen=999)"
      ],
      "execution_count": null,
      "outputs": []
    },
    {
      "cell_type": "markdown",
      "metadata": {
        "id": "eRN57uKfdVP_"
      },
      "source": [
        "Para limpiar el entorno global."
      ]
    },
    {
      "cell_type": "code",
      "metadata": {
        "id": "vpA3AuzAdR8d"
      },
      "source": [
        "rm(list = ls())"
      ],
      "execution_count": null,
      "outputs": []
    },
    {
      "cell_type": "markdown",
      "metadata": {
        "id": "8LNetMK6duDb"
      },
      "source": [
        "Definimos parámetros (fechas) de inicio y final para extracción de datos."
      ]
    },
    {
      "cell_type": "code",
      "metadata": {
        "id": "FaDvrPGEdthf"
      },
      "source": [
        "comenzar = \"2020-12-01\"\n",
        "finalizar = \"2020-12-17\""
      ],
      "execution_count": null,
      "outputs": []
    },
    {
      "cell_type": "markdown",
      "metadata": {
        "id": "Z_pzm3WKd63E"
      },
      "source": [
        "Leemos estaciones del catálogo de estaciones de Piragua."
      ]
    },
    {
      "cell_type": "code",
      "metadata": {
        "id": "rfZ3vsHKdUdh"
      },
      "source": [
        "estaciones = read.csv(\"http://www.piraguacorantioquia.com.co/redes_nuevo/images/Estaciones_Piragua.csv\")"
      ],
      "execution_count": null,
      "outputs": []
    },
    {
      "cell_type": "markdown",
      "metadata": {
        "id": "Dl8FN9BceHoZ"
      },
      "source": [
        "Aplicamos filtro en catálogo por \"Pluviógrafo\" usando función ***filter()***; podríamos aplicar filtros adicionales, por ejemplo: \n",
        "\n",
        "\n",
        "```\n",
        "filter(tipo = \"Pluviógrafo, territorial = \"Aburrá Sur\")\n",
        "```\n",
        "La anterior línea permite filtrar por las estaciones territoriales ubicadas en el Aburrá Sur.\n"
      ]
    },
    {
      "cell_type": "code",
      "metadata": {
        "id": "z14ik_5GeGvZ"
      },
      "source": [
        "estaciones_pluvio = estaciones %>%\n",
        "  filter(tipo == \"Pluviógrafo\")"
      ],
      "execution_count": null,
      "outputs": []
    },
    {
      "cell_type": "markdown",
      "metadata": {
        "id": "ek06R_EUfZXo"
      },
      "source": [
        "Creamos categorías únicas para municipios, esto con el fin de discernir entre varias estaciones que se encuentran en un mismo municipio."
      ]
    },
    {
      "cell_type": "code",
      "metadata": {
        "id": "Vo70fitYeCij"
      },
      "source": [
        "estaciones_pluvio$municipio = make.names(estaciones_pluvio[,4], unique = TRUE)"
      ],
      "execution_count": null,
      "outputs": []
    },
    {
      "cell_type": "markdown",
      "metadata": {
        "id": "_iw4rV-8fveO"
      },
      "source": [
        "Creamos una función llamada ***get_data()*** para extracción de datos desde la API del geoportal de Piragua."
      ]
    },
    {
      "cell_type": "code",
      "metadata": {
        "id": "1SqQBzIAftqo"
      },
      "source": [
        "get_data = function(estacion, inicio, final){\n",
        "  url=\"https://www.piraguacorantioquia.com.co/api/precipitacion/40?date_estacion__gte=2020-11-17&date_estacion__lt=2020-11-23&downloadfile\"\n",
        "  url2 = param_set(url, \"date_estacion__gte\", inicio)\n",
        "  url3 = param_set(url2, \"date_estacion__lt\", final)\n",
        "  data = read.csv(gsub(\"40\", estacion, url3))\n",
        "  data = na.omit(data)\n",
        "  data = data[!(data$fechas == \"\"), ] # Para borrar campos de fechas vacíos\n",
        "  data$fechas = as.POSIXct(data$fechas, \"%Y-%m-%d %H-%M\")\n",
        "  data$fechas = floor_date(data$fechas, \"5 mins\")\n",
        "  data2 = data %>%\n",
        "    group_by(fechas) %>%\n",
        "    dplyr::summarise(muestra = mean(muestra))\n",
        "}"
      ],
      "execution_count": null,
      "outputs": []
    },
    {
      "cell_type": "markdown",
      "metadata": {
        "id": "hPy_ZN_Ig8Ql"
      },
      "source": [
        "Función de extracción y conversión de datos."
      ]
    },
    {
      "cell_type": "code",
      "metadata": {
        "id": "yFRYQS33fl8_"
      },
      "source": [
        "get_lluvia = function() {\n",
        "  \n",
        "  lluvia = list()\n",
        "  \n",
        "  # Guardamos en lista de listas todos los datasets de las estaciones \n",
        "  # para una territorial en particular\n",
        "  for (i in 1:nrow(estaciones_pluvio)) {\n",
        "    \n",
        "    estacion = estaciones_pluvio$codigo[i]\n",
        "    lluvia[[i]] = get_data(estacion, comenzar, finalizar)\n",
        "    \n",
        "  }\n",
        "  # Agregamos una columna de municipios a cada dataframe de la lista\n",
        "  for (i in 1:length(lluvia)) {\n",
        "    \n",
        "    if (nrow(lluvia[[i]]) > 0) {\n",
        "      lluvia[[i]] = data.frame(lluvia[[i]],\n",
        "                               territorial = estaciones_pluvio[i,5],\n",
        "                               municipios = estaciones_pluvio[i,4])\n",
        "    }\n",
        "  }\n",
        "  #Para eliminar listas con 0 filas\n",
        "  lluvia = lluvia[sapply(lluvia, nrow) > 0]\n",
        "  #Creamos un dataframe global con la lista de estaciones que tienen datos\n",
        "  lluvia = do.call(rbind, lluvia)\n",
        "  \n",
        "}"
      ],
      "execution_count": null,
      "outputs": []
    },
    {
      "cell_type": "markdown",
      "metadata": {
        "id": "zcf_IVWQhJ3r"
      },
      "source": [
        "Extraemos, ahora si, los datos iterando sobre cada estación pluviográfica."
      ]
    },
    {
      "cell_type": "code",
      "metadata": {
        "id": "7ZRQzqYxhIm6"
      },
      "source": [
        "lluvia = get_lluvia()"
      ],
      "execution_count": null,
      "outputs": []
    },
    {
      "cell_type": "markdown",
      "metadata": {
        "id": "55nXDGD7h3dj"
      },
      "source": [
        "Agrupamos por municipios y hallamos su acumulado para la temporalidad dada.\n",
        "\n",
        "\n"
      ]
    },
    {
      "cell_type": "code",
      "metadata": {
        "colab": {
          "base_uri": "https://localhost:8080/"
        },
        "id": "Nwo_OW9bhBh_",
        "outputId": "6dae0d49-e6e9-4f17-b20b-606f197d9499"
      },
      "source": [
        "lluvia2 = lluvia %>%\n",
        "  group_by(municipios, territorial) %>%\n",
        "  dplyr::summarise(muestra = sum(muestra))"
      ],
      "execution_count": null,
      "outputs": [
        {
          "output_type": "stream",
          "text": [
            "`summarise()` regrouping output by 'municipios' (override with `.groups` argument)\n",
            "\n"
          ],
          "name": "stderr"
        }
      ]
    },
    {
      "cell_type": "code",
      "metadata": {
        "id": "WW3x1hqTh-0U"
      },
      "source": [
        "write.table(lluvia2,\"lluvia2.txt\", sep = \";\", \n",
        "            col.names = c(\"municipios\", \"territorial\", \"muestra\"),\n",
        "            row.names = F)"
      ],
      "execution_count": null,
      "outputs": []
    },
    {
      "cell_type": "code",
      "metadata": {
        "id": "A8LIOtxwqC-Z"
      },
      "source": [
        ""
      ],
      "execution_count": null,
      "outputs": []
    }
  ]
}